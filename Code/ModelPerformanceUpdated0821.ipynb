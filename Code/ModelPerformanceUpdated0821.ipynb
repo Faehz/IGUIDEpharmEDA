{
 "cells": [
  {
   "cell_type": "markdown",
   "id": "5a985a46-40a8-4d69-be13-16d2d89d9a99",
   "metadata": {},
   "source": [
    "# Testing Model Performances on Machine Learning dataset\n"
   ]
  },
  {
   "cell_type": "markdown",
   "id": "3abb3e3a-ff9d-4d70-b160-8ac3140f5548",
   "metadata": {},
   "source": [
    "This notebook aims to evaluate the performance of five different machine learning models on the task of predicting pharmaceutical removal from wastewater. The goal is to understand how each model performs on the same dataset, comparing both fine-tuned and untuned versions. We will be using r2 scores, rmse, and mae to evaluate the performance.\n",
    "\n",
    "For each model, we will:\n",
    "- Train and evaluate an untuned version to establish a baseline performance.\n",
    "- Apply hyperparameter tuning to create a fine-tuned version and compare its performance against the baseline.\n",
    "\n",
    "By the end of this analysis, we hope to identify the most effective model and the impact of fine-tuning on its predictive accuracy.\n",
    "\n",
    "For more detailed information, please refer to https://github.com/J4RELY/IGUIDEpharmEDA\n"
   ]
  },
  {
   "cell_type": "code",
   "execution_count": 2,
   "id": "4bc556b3-a105-4a5c-9768-6f1a979ca784",
   "metadata": {},
   "outputs": [],
   "source": [
    "#Import packages\n",
    "from sklearn.metrics import accuracy_score\n",
    "import xgboost as xgb\n",
    "from sklearn.model_selection import train_test_split\n",
    "import numpy as np\n",
    "import matplotlib.pyplot as plt\n",
    "import pandas as pd\n",
    "import openpyxl\n",
    "import math\n",
    "from sklearn.ensemble import RandomForestRegressor\n",
    "from sklearn.metrics import mean_squared_error, mean_absolute_error, r2_score, make_scorer\n",
    "from sklearn.tree import DecisionTreeRegressor\n",
    "from sklearn.model_selection import RandomizedSearchCV, GridSearchCV\n",
    "from sklearn.model_selection import cross_val_score, KFold, cross_validate, cross_val_predict\n",
    "from random import randint\n",
    "import warnings\n",
    "import seaborn as sns\n",
    "warnings.filterwarnings('ignore') \n",
    "from sklearn.neural_network import MLPRegressor\n",
    "from sklearn.preprocessing import StandardScaler\n",
    "from sklearn.exceptions import ConvergenceWarning # Import ConvergenceWarning\n",
    "from joblib import parallel_backend\n",
    "from xgboost import XGBRegressor\n"
   ]
  },
  {
   "cell_type": "code",
   "execution_count": 3,
   "id": "dc3f5616-7554-4456-b0fd-35c0c5898c80",
   "metadata": {},
   "outputs": [],
   "source": [
    "#load dataset, choose the dataset you want here\n",
    "original_data_path = 'updated_DATASET.xlsx'\n",
    "synthetic_data_path = 'synthetic_data.csv'\n",
    "df = pd.read_excel(original_data_path, engine=\"openpyxl\")\n",
    "#df = pd.read_csv(synthetic_data_path)\n",
    "#if necessary concat two dataset for augmented dataset"
   ]
  },
  {
   "cell_type": "code",
   "execution_count": 4,
   "id": "48f16f02-26f3-44f5-a296-7053056427f0",
   "metadata": {},
   "outputs": [],
   "source": [
    "X = df.drop(['Qm (mg/g)', 'C (wt.%)', 'H  (wt.%)', 'PS (mm)'], axis =1)  # drop the features according to our EDA results\n",
    "y = df['Qm (mg/g)']  # Target"
   ]
  },
  {
   "cell_type": "code",
   "execution_count": 5,
   "id": "af0c3c00-8936-45e2-b33b-63f4ba0bca0b",
   "metadata": {},
   "outputs": [],
   "source": [
    "X_train, X_test, y_train, y_test = train_test_split(X, y, test_size=0.2, random_state=42) # split dataset in to train and test"
   ]
  },
  {
   "cell_type": "code",
   "execution_count": 6,
   "id": "9378f89a-b89c-4a04-8401-4c44a4fd58f9",
   "metadata": {},
   "outputs": [],
   "source": [
    "scoring = ['r2', 'neg_mean_absolute_error', 'neg_mean_squared_error'] #Our major scorings\n"
   ]
  },
  {
   "cell_type": "markdown",
   "id": "1bee5ffa-f543-4b19-bae4-9d149108c41e",
   "metadata": {},
   "source": [
    "## Random Forest Regressor"
   ]
  },
  {
   "cell_type": "markdown",
   "id": "cdd87e21-0283-49a9-b623-29b95c480452",
   "metadata": {},
   "source": [
    "### Untunned Training with Cross Validation"
   ]
  },
  {
   "cell_type": "code",
   "execution_count": 7,
   "id": "a283e2c2-65ce-452c-9ffd-e6666af5d5cd",
   "metadata": {},
   "outputs": [],
   "source": [
    "#untuned cross validation\n",
    "default_rf = RandomForestRegressor(random_state=42)\n",
    "k_folds = KFold(n_splits = 5)\n",
    "\n",
    "untuned_mae_result = cross_val_score(default_rf, X, y.values.ravel(), cv = k_folds, scoring= \"neg_mean_absolute_error\")\n",
    "untuned_rmse_result = cross_val_score(default_rf, X, y.values.ravel(), cv = k_folds, scoring= \"neg_mean_squared_error\")\n",
    "untuned_r2_result = cross_val_score(default_rf, X, y.values.ravel(), cv = k_folds, scoring= \"r2\")"
   ]
  },
  {
   "cell_type": "code",
   "execution_count": 8,
   "id": "daf2cc46-9a2c-4602-ab48-fbf568a90ad2",
   "metadata": {},
   "outputs": [],
   "source": [
    "average_untuned_mae_rf = np.mean(untuned_mae_result) *-1\n",
    "average_untuned_rmse_rf = np.mean(np.sqrt(untuned_rmse_result*-1))\n",
    "average_untuned_r2_rf = np.mean(untuned_r2_result)\n"
   ]
  },
  {
   "cell_type": "markdown",
   "id": "76ceecc4-aa06-4d2d-aa8a-85583a052b25",
   "metadata": {},
   "source": [
    "### Finetuning with GridSearchCV"
   ]
  },
  {
   "cell_type": "code",
   "execution_count": 9,
   "id": "915773c2-5a5f-4d79-9219-c6b09735252f",
   "metadata": {},
   "outputs": [
    {
     "name": "stdout",
     "output_type": "stream",
     "text": [
      "Fitting 5 folds for each of 90 candidates, totalling 450 fits\n",
      "Best Hyperparameters:  {'max_depth': 8, 'min_samples_leaf': 1, 'min_samples_split': 2, 'n_estimators': 150}\n"
     ]
    }
   ],
   "source": [
    "# Define the parameter grid to search through\n",
    "rf_regressor = RandomForestRegressor(random_state=42)\n",
    "param_grid = {\n",
    "    'n_estimators': [15, 25, 50, 100, 150],\n",
    "    'max_depth': [None, 6, 8],\n",
    "    'min_samples_split': [2, 4],\n",
    "    'min_samples_leaf': [1, 2, 4]\n",
    "}\n",
    "\n",
    "# Initialize GridSearchCV with cross-validation on the training set\n",
    "grid_search = GridSearchCV(estimator=rf_regressor, param_grid=param_grid,\n",
    "                           scoring=scoring, refit=\"neg_mean_squared_error\", cv=5, verbose=1, n_jobs=-1, return_train_score=False)\n",
    "\n",
    "# Perform the grid search on the training set\n",
    "grid_search.fit(X_train, y_train)\n",
    "\n",
    "# Extract the best hyperparameters\n",
    "best_params = grid_search.best_params_\n",
    "print(\"Best Hyperparameters: \", best_params)\n",
    "\n",
    "# Extract cross-validation results\n",
    "cv_results = pd.DataFrame(grid_search.cv_results_)"
   ]
  },
  {
   "cell_type": "code",
   "execution_count": 10,
   "id": "6fc1b0c4-c61d-4ce8-94b7-921e965a2e7d",
   "metadata": {},
   "outputs": [
    {
     "name": "stdout",
     "output_type": "stream",
     "text": [
      "r2 score: 0.47929058005727854\n",
      "mae score: 30.75651649097101\n",
      "rmse score: 48.84339110936548\n"
     ]
    }
   ],
   "source": [
    "rf_r2 = cv_results[f'mean_test_r2'] *-1\n",
    "mean_rf_r2 = rf_r2.mean()\n",
    "rf_mae = cv_results[f'mean_test_neg_mean_absolute_error'] * -1\n",
    "mean_rf_mae = rf_mae.mean()\n",
    "rf_rmse = np.sqrt(cv_results[f'mean_test_neg_mean_squared_error'] * -1)\n",
    "mean_rf_rmse = rf_rmse.mean()\n",
    "print(f'r2 score: {mean_rf_r2}')\n",
    "print(f'mae score: {mean_rf_mae}')\n",
    "print(f'rmse score: {mean_rf_rmse}')"
   ]
  },
  {
   "cell_type": "code",
   "execution_count": 11,
   "id": "84bbb930-7078-4617-a179-8656889c6262",
   "metadata": {},
   "outputs": [],
   "source": [
    "k_folds = KFold(n_splits = 5)\n",
    "rf_mae = cross_val_score(grid_search.best_estimator_, X, y.values.ravel(), cv = k_folds, scoring= \"neg_mean_absolute_error\") * -1\n",
    "rf_r2 = cross_val_score(grid_search.best_estimator_, X, y.values.ravel(), cv = k_folds, scoring= \"r2\")\n",
    "rf_rmse = np.sqrt(cross_val_score(grid_search.best_estimator_, X, y.values.ravel(), cv = k_folds, scoring= \"neg_mean_squared_error\")*-1)"
   ]
  },
  {
   "cell_type": "code",
   "execution_count": 12,
   "id": "63ee245e-38d8-4e46-a641-d29f2b3ca9bb",
   "metadata": {},
   "outputs": [],
   "source": [
    "best_params_rf = grid_search.best_params_"
   ]
  },
  {
   "cell_type": "code",
   "execution_count": 13,
   "id": "abe313ec-5baf-44b2-b6f4-e80f270a3108",
   "metadata": {},
   "outputs": [],
   "source": [
    "rf_results = {\n",
    "    \"Tunned\": {\"r2\": rf_r2, \"rmse\": rf_rmse, \"mae\": rf_mae},\n",
    "    \"Untunned\": {\"r2\": untuned_r2_result, \"rmse\": np.sqrt(untuned_rmse_result*-1), \"mae\": untuned_mae_result *-1}\n",
    "}"
   ]
  },
  {
   "cell_type": "code",
   "execution_count": 14,
   "id": "6136b1db-aabb-4b6e-b3fe-c8b89d94900e",
   "metadata": {},
   "outputs": [],
   "source": [
    "def visualize(dataframe, model):\n",
    "    records = []\n",
    "    for category, metrics in dataframe.items():\n",
    "        for metric, values in metrics.items():\n",
    "            for value in values:\n",
    "                records.append([category, metric, value])\n",
    "\n",
    "    df = pd.DataFrame(records, columns=['Category', 'Metric', 'Value'])\n",
    "    sns.set(style=\"whitegrid\")\n",
    "\n",
    "    # Create subplots\n",
    "    fig, axes = plt.subplots(1, 3, figsize=(18, 6), sharey=False)\n",
    "    \n",
    "    # Define y-limits for each metric, adjust it if necessary\n",
    "    y_limits = {\n",
    "        'r2': (-0.5, 0.5),\n",
    "        'rmse': (20, 80),\n",
    "        'mae': (0, 80)\n",
    "    }\n",
    "    \n",
    "    # Plot each metric in a separate subplot\n",
    "    for ax, metric in zip(axes, y_limits.keys()):\n",
    "        sns.boxplot(x='Category', y='Value', data=df[df['Metric'] == metric], ax=ax)\n",
    "        ax.set_ylim(y_limits[metric])\n",
    "        ax.set_title(f'{model} Boxplot of {metric.upper()}')\n",
    "        ax.set_xlabel('Category')\n",
    "        ax.set_ylabel('Value')\n",
    "    \n",
    "    \n",
    "    # Adjust layout\n",
    "    plt.tight_layout()\n",
    "    plt.savefig('{}_score_original.png'.format(model), dpi =300)\n",
    "    plt.show()\n"
   ]
  },
  {
   "cell_type": "code",
   "execution_count": 15,
   "id": "0bcfbb2b-c02b-48cf-bbdb-61da5369473e",
   "metadata": {},
   "outputs": [
    {
     "data": {
      "image/png": "[encoded data removed]",
      "text/plain": [
       "<Figure size 1800x600 with 3 Axes>"
      ]
     },
     "metadata": {},
     "output_type": "display_data"
    }
   ],
   "source": [
    "visualize(rf_results, \"Random Forest\")"
   ]
  },
  {
   "cell_type": "markdown",
   "id": "f5108972-b31e-47e8-8d65-cff839daeeb5",
   "metadata": {},
   "source": [
    "## Decision Tree\n"
   ]
  },
  {
   "cell_type": "markdown",
   "id": "5ccdecc0-53b1-4664-a66c-01d19df1e267",
   "metadata": {},
   "source": [
    "### Untunned Training with Cross Validation"
   ]
  },
  {
   "cell_type": "code",
   "execution_count": 16,
   "id": "b2dcc11e-d324-43e5-bf77-90d251de7a7b",
   "metadata": {},
   "outputs": [],
   "source": [
    "#untuned decision tree\n",
    "default_dt = DecisionTreeRegressor(random_state=42)\n",
    "k_folds = KFold(n_splits = 5)\n",
    "\n",
    "untuned_mae_result_dt = cross_val_score(default_dt, X, y.values.ravel(), cv = k_folds, scoring= \"neg_mean_absolute_error\")\n",
    "untuned_rmse_result_dt = cross_val_score(default_dt, X, y.values.ravel(), cv = k_folds, scoring= \"neg_mean_squared_error\")\n",
    "untuned_r2_result_dt = cross_val_score(default_dt, X, y.values.ravel(), cv = k_folds, scoring= \"r2\")\n",
    "\n"
   ]
  },
  {
   "cell_type": "code",
   "execution_count": 17,
   "id": "a8cd99b5-1f44-4988-9a9e-973ebbcf01df",
   "metadata": {},
   "outputs": [],
   "source": [
    "average_untuned_mae_dt = np.mean(untuned_mae_result_dt) *-1\n",
    "average_untuned_rmse_dt = np.mean(np.sqrt(untuned_rmse_result_dt*-1))\n",
    "average_untuned_r2_dt = np.mean(untuned_r2_result_dt)\n"
   ]
  },
  {
   "cell_type": "markdown",
   "id": "4ae90f1d-6848-4d47-9165-b8282e8296e8",
   "metadata": {},
   "source": [
    "### Finetuning with RandomizedSearchCV"
   ]
  },
  {
   "cell_type": "code",
   "execution_count": 18,
   "id": "3eda5e58-1cfd-4c71-ac41-38eaee7581f6",
   "metadata": {},
   "outputs": [],
   "source": [
    "def get_rmse_errors_cv(X, y, dt, scorer, split=5):\n",
    "    k_folds = KFold(n_splits = split)\n",
    "    dt_model = dt\n",
    "    dt_scores = cross_val_score(dt_model, X, y.values.ravel(), cv = k_folds, scoring= \"neg_mean_squared_error\")\n",
    "    results = {\n",
    "        'Decision Tree': np.sqrt(dt_scores * -1),\n",
    "        }\n",
    "    results = pd.DataFrame(results)\n",
    "    return results\n",
    "\n",
    "def get_r2_errors_cv(X, y, dt, scorer, split=5):\n",
    "    k_folds = KFold(n_splits = split)\n",
    "    dt_model = dt\n",
    "    dt_scores = cross_val_score(dt_model, X, y.values.ravel(), cv = k_folds, scoring= \"r2\")\n",
    "    results = {\n",
    "        'Decision Tree': dt_scores * -1,\n",
    "        }\n",
    "    results = pd.DataFrame(results)\n",
    "    return results\n",
    "\n",
    "def get_mae_errors_cv(X, y, dt, scorer, split=5):\n",
    "    k_folds = KFold(n_splits = split)\n",
    "    dt_model = dt\n",
    "    dt_scores = cross_val_score(dt_model, X, y.values.ravel(), cv = k_folds, scoring= \"neg_mean_absolute_error\")\n",
    "    results = {\n",
    "        'Decision Tree': dt_scores * -1,\n",
    "        }\n",
    "    results = pd.DataFrame(results)\n",
    "    return results"
   ]
  },
  {
   "cell_type": "code",
   "execution_count": 19,
   "id": "42645194-71b7-4ef1-a0d3-132b410c7640",
   "metadata": {},
   "outputs": [
    {
     "name": "stdout",
     "output_type": "stream",
     "text": [
      "Fitting 5 folds for each of 50 candidates, totalling 250 fits\n"
     ]
    },
    {
     "data": {
      "text/plain": [
       "{'splitter': 'random',\n",
       " 'min_samples_split': 7,\n",
       " 'min_samples_leaf': 7,\n",
       " 'max_features': 'log2',\n",
       " 'max_depth': 14,\n",
       " 'criterion': 'absolute_error'}"
      ]
     },
     "execution_count": 19,
     "metadata": {},
     "output_type": "execute_result"
    }
   ],
   "source": [
    "param_grid = {\n",
    "    'criterion': ['squared_error', 'friedman_mse', 'absolute_error', 'poisson'],\n",
    "    'splitter': ['best', 'random'],\n",
    "    'max_depth': [None] + list(np.arange(2, 20)),\n",
    "    'min_samples_split': np.arange(2, 10),\n",
    "    'min_samples_leaf': np.arange(1, 10),\n",
    "    'max_features': [None, 'auto', 'sqrt', 'log2'] + list(np.arange(0.1, 1.1, 0.1))\n",
    "}\n",
    "\n",
    "dt_model = RandomizedSearchCV(DecisionTreeRegressor()\n",
    "    ,param_distributions=param_grid,\n",
    "    n_iter=50,  # Number of parameter settings that are sampled\n",
    "    cv=5,       # Number of cross-validation folds\n",
    "    verbose=1,\n",
    "    random_state=42,\n",
    "    n_jobs=-1  )\n",
    "search_dt = dt_model.fit(X_train, y_train)\n",
    "search_dt.best_params_"
   ]
  },
  {
   "cell_type": "code",
   "execution_count": 20,
   "id": "0ba7b52f-4f1c-4f61-bd1b-d014d85b4443",
   "metadata": {},
   "outputs": [],
   "source": [
    "best_params_dt = search_dt.best_params_"
   ]
  },
  {
   "cell_type": "code",
   "execution_count": 21,
   "id": "05897eba-2f13-4129-8bb2-9981142131bc",
   "metadata": {},
   "outputs": [
    {
     "data": {
      "text/html": [
       "<style>#sk-container-id-1 {color: black;}#sk-container-id-1 pre{padding: 0;}#sk-container-id-1 div.sk-toggleable {background-color: white;}#sk-container-id-1 label.sk-toggleable__label {cursor: pointer;display: block;width: 100%;margin-bottom: 0;padding: 0.3em;box-sizing: border-box;text-align: center;}#sk-container-id-1 label.sk-toggleable__label-arrow:before {content: \"▸\";float: left;margin-right: 0.25em;color: #696969;}#sk-container-id-1 label.sk-toggleable__label-arrow:hover:before {color: black;}#sk-container-id-1 div.sk-estimator:hover label.sk-toggleable__label-arrow:before {color: black;}#sk-container-id-1 div.sk-toggleable__content {max-height: 0;max-width: 0;overflow: hidden;text-align: left;background-color: #f0f8ff;}#sk-container-id-1 div.sk-toggleable__content pre {margin: 0.2em;color: black;border-radius: 0.25em;background-color: #f0f8ff;}#sk-container-id-1 input.sk-toggleable__control:checked~div.sk-toggleable__content {max-height: 200px;max-width: 100%;overflow: auto;}#sk-container-id-1 input.sk-toggleable__control:checked~label.sk-toggleable__label-arrow:before {content: \"▾\";}#sk-container-id-1 div.sk-estimator input.sk-toggleable__control:checked~label.sk-toggleable__label {background-color: #d4ebff;}#sk-container-id-1 div.sk-label input.sk-toggleable__control:checked~label.sk-toggleable__label {background-color: #d4ebff;}#sk-container-id-1 input.sk-hidden--visually {border: 0;clip: rect(1px 1px 1px 1px);clip: rect(1px, 1px, 1px, 1px);height: 1px;margin: -1px;overflow: hidden;padding: 0;position: absolute;width: 1px;}#sk-container-id-1 div.sk-estimator {font-family: monospace;background-color: #f0f8ff;border: 1px dotted black;border-radius: 0.25em;box-sizing: border-box;margin-bottom: 0.5em;}#sk-container-id-1 div.sk-estimator:hover {background-color: #d4ebff;}#sk-container-id-1 div.sk-parallel-item::after {content: \"\";width: 100%;border-bottom: 1px solid gray;flex-grow: 1;}#sk-container-id-1 div.sk-label:hover label.sk-toggleable__label {background-color: #d4ebff;}#sk-container-id-1 div.sk-serial::before {content: \"\";position: absolute;border-left: 1px solid gray;box-sizing: border-box;top: 0;bottom: 0;left: 50%;z-index: 0;}#sk-container-id-1 div.sk-serial {display: flex;flex-direction: column;align-items: center;background-color: white;padding-right: 0.2em;padding-left: 0.2em;position: relative;}#sk-container-id-1 div.sk-item {position: relative;z-index: 1;}#sk-container-id-1 div.sk-parallel {display: flex;align-items: stretch;justify-content: center;background-color: white;position: relative;}#sk-container-id-1 div.sk-item::before, #sk-container-id-1 div.sk-parallel-item::before {content: \"\";position: absolute;border-left: 1px solid gray;box-sizing: border-box;top: 0;bottom: 0;left: 50%;z-index: -1;}#sk-container-id-1 div.sk-parallel-item {display: flex;flex-direction: column;z-index: 1;position: relative;background-color: white;}#sk-container-id-1 div.sk-parallel-item:first-child::after {align-self: flex-end;width: 50%;}#sk-container-id-1 div.sk-parallel-item:last-child::after {align-self: flex-start;width: 50%;}#sk-container-id-1 div.sk-parallel-item:only-child::after {width: 0;}#sk-container-id-1 div.sk-dashed-wrapped {border: 1px dashed gray;margin: 0 0.4em 0.5em 0.4em;box-sizing: border-box;padding-bottom: 0.4em;background-color: white;}#sk-container-id-1 div.sk-label label {font-family: monospace;font-weight: bold;display: inline-block;line-height: 1.2em;}#sk-container-id-1 div.sk-label-container {text-align: center;}#sk-container-id-1 div.sk-container {/* jupyter's `normalize.less` sets `[hidden] { display: none; }` but bootstrap.min.css set `[hidden] { display: none !important; }` so we also need the `!important` here to be able to override the default hidden behavior on the sphinx rendered scikit-learn.org. See: https://github.com/scikit-learn/scikit-learn/issues/21755 */display: inline-block !important;position: relative;}#sk-container-id-1 div.sk-text-repr-fallback {display: none;}</style><div id=\"sk-container-id-1\" class=\"sk-top-container\"><div class=\"sk-text-repr-fallback\"><pre>DecisionTreeRegressor(criterion=&#x27;absolute_error&#x27;, max_depth=14,\n",
       "                      max_features=&#x27;log2&#x27;, min_samples_leaf=7,\n",
       "                      min_samples_split=7, splitter=&#x27;random&#x27;)</pre><b>In a Jupyter environment, please rerun this cell to show the HTML representation or trust the notebook. <br />On GitHub, the HTML representation is unable to render, please try loading this page with nbviewer.org.</b></div><div class=\"sk-container\" hidden><div class=\"sk-item\"><div class=\"sk-estimator sk-toggleable\"><input class=\"sk-toggleable__control sk-hidden--visually\" id=\"sk-estimator-id-1\" type=\"checkbox\" checked><label for=\"sk-estimator-id-1\" class=\"sk-toggleable__label sk-toggleable__label-arrow\">DecisionTreeRegressor</label><div class=\"sk-toggleable__content\"><pre>DecisionTreeRegressor(criterion=&#x27;absolute_error&#x27;, max_depth=14,\n",
       "                      max_features=&#x27;log2&#x27;, min_samples_leaf=7,\n",
       "                      min_samples_split=7, splitter=&#x27;random&#x27;)</pre></div></div></div></div></div>"
      ],
      "text/plain": [
       "DecisionTreeRegressor(criterion='absolute_error', max_depth=14,\n",
       "                      max_features='log2', min_samples_leaf=7,\n",
       "                      min_samples_split=7, splitter='random')"
      ]
     },
     "execution_count": 21,
     "metadata": {},
     "output_type": "execute_result"
    }
   ],
   "source": [
    "dt = DecisionTreeRegressor()\n",
    "dt.set_params(**search_dt.best_params_)"
   ]
  },
  {
   "cell_type": "code",
   "execution_count": 22,
   "id": "0162d689-7824-4ac4-bd3e-bb6be43a74a7",
   "metadata": {},
   "outputs": [],
   "source": [
    "r2_results = get_r2_errors_cv(X, y, dt, \"r2\", split=5)\n",
    "average_r2_dt = np.mean(r2_results.values.flatten())\n",
    "mae_results = get_mae_errors_cv(X, y, dt, \"neg_mean_absolute_error\")\n",
    "average_mae_dt = np.mean(mae_results.values.flatten())\n",
    "rmse_results = get_rmse_errors_cv(X, y, dt, \"neg_mean_squared_error\", split=5)\n",
    "average_rmse_dt = np.mean(rmse_results.values.flatten())"
   ]
  },
  {
   "cell_type": "code",
   "execution_count": 23,
   "id": "23b3e93f-0628-4983-9797-dc82cf48beff",
   "metadata": {},
   "outputs": [],
   "source": [
    "dt_results = {\n",
    "    \"Tunned\": {\"r2\": r2_results.to_numpy().flatten(), \"rmse\": rmse_results.to_numpy().flatten(), \"mae\": mae_results.to_numpy().flatten()},\n",
    "    \"Untunned\": {\"r2\": untuned_r2_result_dt, \"rmse\": np.sqrt(untuned_rmse_result_dt*-1), \"mae\": untuned_mae_result_dt *-1}\n",
    "}\n"
   ]
  },
  {
   "cell_type": "code",
   "execution_count": 24,
   "id": "375e07ab-fcd6-4aa8-9dad-8e1ee42ece85",
   "metadata": {},
   "outputs": [
    {
     "data": {
      "image/png": "[encoded data removed]",
      "text/plain": [
       "<Figure size 1800x600 with 3 Axes>"
      ]
     },
     "metadata": {},
     "output_type": "display_data"
    }
   ],
   "source": [
    "visualize(dt_results, \"Decision Tree\")"
   ]
  },
  {
   "cell_type": "markdown",
   "id": "5d2015da-0940-4d70-be58-4d8e07494b02",
   "metadata": {},
   "source": [
    "## Xgboost"
   ]
  },
  {
   "cell_type": "markdown",
   "id": "46073596-9885-49b5-934b-5ab163824643",
   "metadata": {},
   "source": [
    "### Untunned Training with Cross Validation"
   ]
  },
  {
   "cell_type": "code",
   "execution_count": 25,
   "id": "c9db1333-9213-4c14-acde-a645d7126ce7",
   "metadata": {},
   "outputs": [
    {
     "data": {
      "text/html": [
       "<style>#sk-container-id-2 {color: black;}#sk-container-id-2 pre{padding: 0;}#sk-container-id-2 div.sk-toggleable {background-color: white;}#sk-container-id-2 label.sk-toggleable__label {cursor: pointer;display: block;width: 100%;margin-bottom: 0;padding: 0.3em;box-sizing: border-box;text-align: center;}#sk-container-id-2 label.sk-toggleable__label-arrow:before {content: \"▸\";float: left;margin-right: 0.25em;color: #696969;}#sk-container-id-2 label.sk-toggleable__label-arrow:hover:before {color: black;}#sk-container-id-2 div.sk-estimator:hover label.sk-toggleable__label-arrow:before {color: black;}#sk-container-id-2 div.sk-toggleable__content {max-height: 0;max-width: 0;overflow: hidden;text-align: left;background-color: #f0f8ff;}#sk-container-id-2 div.sk-toggleable__content pre {margin: 0.2em;color: black;border-radius: 0.25em;background-color: #f0f8ff;}#sk-container-id-2 input.sk-toggleable__control:checked~div.sk-toggleable__content {max-height: 200px;max-width: 100%;overflow: auto;}#sk-container-id-2 input.sk-toggleable__control:checked~label.sk-toggleable__label-arrow:before {content: \"▾\";}#sk-container-id-2 div.sk-estimator input.sk-toggleable__control:checked~label.sk-toggleable__label {background-color: #d4ebff;}#sk-container-id-2 div.sk-label input.sk-toggleable__control:checked~label.sk-toggleable__label {background-color: #d4ebff;}#sk-container-id-2 input.sk-hidden--visually {border: 0;clip: rect(1px 1px 1px 1px);clip: rect(1px, 1px, 1px, 1px);height: 1px;margin: -1px;overflow: hidden;padding: 0;position: absolute;width: 1px;}#sk-container-id-2 div.sk-estimator {font-family: monospace;background-color: #f0f8ff;border: 1px dotted black;border-radius: 0.25em;box-sizing: border-box;margin-bottom: 0.5em;}#sk-container-id-2 div.sk-estimator:hover {background-color: #d4ebff;}#sk-container-id-2 div.sk-parallel-item::after {content: \"\";width: 100%;border-bottom: 1px solid gray;flex-grow: 1;}#sk-container-id-2 div.sk-label:hover label.sk-toggleable__label {background-color: #d4ebff;}#sk-container-id-2 div.sk-serial::before {content: \"\";position: absolute;border-left: 1px solid gray;box-sizing: border-box;top: 0;bottom: 0;left: 50%;z-index: 0;}#sk-container-id-2 div.sk-serial {display: flex;flex-direction: column;align-items: center;background-color: white;padding-right: 0.2em;padding-left: 0.2em;position: relative;}#sk-container-id-2 div.sk-item {position: relative;z-index: 1;}#sk-container-id-2 div.sk-parallel {display: flex;align-items: stretch;justify-content: center;background-color: white;position: relative;}#sk-container-id-2 div.sk-item::before, #sk-container-id-2 div.sk-parallel-item::before {content: \"\";position: absolute;border-left: 1px solid gray;box-sizing: border-box;top: 0;bottom: 0;left: 50%;z-index: -1;}#sk-container-id-2 div.sk-parallel-item {display: flex;flex-direction: column;z-index: 1;position: relative;background-color: white;}#sk-container-id-2 div.sk-parallel-item:first-child::after {align-self: flex-end;width: 50%;}#sk-container-id-2 div.sk-parallel-item:last-child::after {align-self: flex-start;width: 50%;}#sk-container-id-2 div.sk-parallel-item:only-child::after {width: 0;}#sk-container-id-2 div.sk-dashed-wrapped {border: 1px dashed gray;margin: 0 0.4em 0.5em 0.4em;box-sizing: border-box;padding-bottom: 0.4em;background-color: white;}#sk-container-id-2 div.sk-label label {font-family: monospace;font-weight: bold;display: inline-block;line-height: 1.2em;}#sk-container-id-2 div.sk-label-container {text-align: center;}#sk-container-id-2 div.sk-container {/* jupyter's `normalize.less` sets `[hidden] { display: none; }` but bootstrap.min.css set `[hidden] { display: none !important; }` so we also need the `!important` here to be able to override the default hidden behavior on the sphinx rendered scikit-learn.org. See: https://github.com/scikit-learn/scikit-learn/issues/21755 */display: inline-block !important;position: relative;}#sk-container-id-2 div.sk-text-repr-fallback {display: none;}</style><div id=\"sk-container-id-2\" class=\"sk-top-container\"><div class=\"sk-text-repr-fallback\"><pre>XGBRegressor(base_score=None, booster=None, callbacks=None,\n",
       "             colsample_bylevel=None, colsample_bynode=None,\n",
       "             colsample_bytree=None, device=None, early_stopping_rounds=None,\n",
       "             enable_categorical=False, eval_metric=None, feature_types=None,\n",
       "             gamma=None, grow_policy=None, importance_type=None,\n",
       "             interaction_constraints=None, learning_rate=0.001, max_bin=None,\n",
       "             max_cat_threshold=None, max_cat_to_onehot=None,\n",
       "             max_delta_step=None, max_depth=None, max_leaves=None,\n",
       "             min_child_weight=None, missing=nan, monotone_constraints=None,\n",
       "             multi_strategy=None, n_estimators=200, n_jobs=None,\n",
       "             num_parallel_tree=None, random_state=None, ...)</pre><b>In a Jupyter environment, please rerun this cell to show the HTML representation or trust the notebook. <br />On GitHub, the HTML representation is unable to render, please try loading this page with nbviewer.org.</b></div><div class=\"sk-container\" hidden><div class=\"sk-item\"><div class=\"sk-estimator sk-toggleable\"><input class=\"sk-toggleable__control sk-hidden--visually\" id=\"sk-estimator-id-2\" type=\"checkbox\" checked><label for=\"sk-estimator-id-2\" class=\"sk-toggleable__label sk-toggleable__label-arrow\">XGBRegressor</label><div class=\"sk-toggleable__content\"><pre>XGBRegressor(base_score=None, booster=None, callbacks=None,\n",
       "             colsample_bylevel=None, colsample_bynode=None,\n",
       "             colsample_bytree=None, device=None, early_stopping_rounds=None,\n",
       "             enable_categorical=False, eval_metric=None, feature_types=None,\n",
       "             gamma=None, grow_policy=None, importance_type=None,\n",
       "             interaction_constraints=None, learning_rate=0.001, max_bin=None,\n",
       "             max_cat_threshold=None, max_cat_to_onehot=None,\n",
       "             max_delta_step=None, max_depth=None, max_leaves=None,\n",
       "             min_child_weight=None, missing=nan, monotone_constraints=None,\n",
       "             multi_strategy=None, n_estimators=200, n_jobs=None,\n",
       "             num_parallel_tree=None, random_state=None, ...)</pre></div></div></div></div></div>"
      ],
      "text/plain": [
       "XGBRegressor(base_score=None, booster=None, callbacks=None,\n",
       "             colsample_bylevel=None, colsample_bynode=None,\n",
       "             colsample_bytree=None, device=None, early_stopping_rounds=None,\n",
       "             enable_categorical=False, eval_metric=None, feature_types=None,\n",
       "             gamma=None, grow_policy=None, importance_type=None,\n",
       "             interaction_constraints=None, learning_rate=0.001, max_bin=None,\n",
       "             max_cat_threshold=None, max_cat_to_onehot=None,\n",
       "             max_delta_step=None, max_depth=None, max_leaves=None,\n",
       "             min_child_weight=None, missing=nan, monotone_constraints=None,\n",
       "             multi_strategy=None, n_estimators=200, n_jobs=None,\n",
       "             num_parallel_tree=None, random_state=None, ...)"
      ]
     },
     "execution_count": 25,
     "metadata": {},
     "output_type": "execute_result"
    }
   ],
   "source": [
    "untunned_xgb_model = XGBRegressor(n_estimators = 200, learning_rate = 0.001)\n",
    "untunned_xgb_model.fit(X_train, y_train)"
   ]
  },
  {
   "cell_type": "code",
   "execution_count": 26,
   "id": "14c765e9-747b-4004-bd5e-b27f6ea163ab",
   "metadata": {},
   "outputs": [],
   "source": [
    "kfold = KFold(n_splits=5)\n",
    "untunned_r2_results_xgb = cross_val_score(untunned_xgb_model, X, y, cv=kfold, scoring = 'r2')\n",
    "untunned_rmse_results_xgb = np.sqrt(cross_val_score(untunned_xgb_model, X, y, cv=kfold, scoring = 'neg_mean_squared_error')*-1)\n",
    "untunned_mae_results_xgb = cross_val_score(untunned_xgb_model, X, y, cv=kfold, scoring = 'neg_mean_absolute_error')*-1"
   ]
  },
  {
   "cell_type": "code",
   "execution_count": 27,
   "id": "ae460e9c-934e-4c7e-9ee9-80f3b870fb0d",
   "metadata": {},
   "outputs": [],
   "source": [
    "\n",
    "untunned_pred = untunned_xgb_model.predict(X_test)\n"
   ]
  },
  {
   "cell_type": "code",
   "execution_count": 28,
   "id": "74c227e6-f319-4408-a10d-a35700d91be4",
   "metadata": {},
   "outputs": [
    {
     "name": "stdout",
     "output_type": "stream",
     "text": [
      "RMSE :  48.079548\n"
     ]
    }
   ],
   "source": [
    "untunned_xgb_rmse = np.sqrt(mean_squared_error(y_test, untunned_pred)) \n",
    "print(\"RMSE : % f\" %(untunned_xgb_rmse)) "
   ]
  },
  {
   "cell_type": "code",
   "execution_count": 29,
   "id": "db26b282-2b25-4782-a4a0-c29f119d4a04",
   "metadata": {},
   "outputs": [
    {
     "name": "stdout",
     "output_type": "stream",
     "text": [
      "mean absolute score: 35.111086785507204\n"
     ]
    }
   ],
   "source": [
    "untunned_xgb_mae = mean_absolute_error(y_test, untunned_pred)\n",
    "print('mean absolute score:', untunned_xgb_mae)"
   ]
  },
  {
   "cell_type": "code",
   "execution_count": 30,
   "id": "1a529e3c-9197-40a4-9d04-c6797aadd8c7",
   "metadata": {},
   "outputs": [
    {
     "name": "stdout",
     "output_type": "stream",
     "text": [
      "r2 score: 0.12585421817411602\n"
     ]
    }
   ],
   "source": [
    "untunned_xgb_r2 = r2_score(y_test, untunned_pred)\n",
    "print('r2 score:',untunned_xgb_r2)"
   ]
  },
  {
   "cell_type": "markdown",
   "id": "a328b1e0-f05e-4d8c-bffe-f0652b28d05a",
   "metadata": {},
   "source": [
    "### Finetuning with RandomizedSearchCV"
   ]
  },
  {
   "cell_type": "code",
   "execution_count": 31,
   "id": "d92c9e5b-337b-44e8-aaf4-78f0946f3941",
   "metadata": {},
   "outputs": [
    {
     "name": "stdout",
     "output_type": "stream",
     "text": [
      "Fitting 5 folds for each of 50 candidates, totalling 250 fits\n"
     ]
    },
    {
     "data": {
      "text/html": [
       "<style>#sk-container-id-3 {color: black;}#sk-container-id-3 pre{padding: 0;}#sk-container-id-3 div.sk-toggleable {background-color: white;}#sk-container-id-3 label.sk-toggleable__label {cursor: pointer;display: block;width: 100%;margin-bottom: 0;padding: 0.3em;box-sizing: border-box;text-align: center;}#sk-container-id-3 label.sk-toggleable__label-arrow:before {content: \"▸\";float: left;margin-right: 0.25em;color: #696969;}#sk-container-id-3 label.sk-toggleable__label-arrow:hover:before {color: black;}#sk-container-id-3 div.sk-estimator:hover label.sk-toggleable__label-arrow:before {color: black;}#sk-container-id-3 div.sk-toggleable__content {max-height: 0;max-width: 0;overflow: hidden;text-align: left;background-color: #f0f8ff;}#sk-container-id-3 div.sk-toggleable__content pre {margin: 0.2em;color: black;border-radius: 0.25em;background-color: #f0f8ff;}#sk-container-id-3 input.sk-toggleable__control:checked~div.sk-toggleable__content {max-height: 200px;max-width: 100%;overflow: auto;}#sk-container-id-3 input.sk-toggleable__control:checked~label.sk-toggleable__label-arrow:before {content: \"▾\";}#sk-container-id-3 div.sk-estimator input.sk-toggleable__control:checked~label.sk-toggleable__label {background-color: #d4ebff;}#sk-container-id-3 div.sk-label input.sk-toggleable__control:checked~label.sk-toggleable__label {background-color: #d4ebff;}#sk-container-id-3 input.sk-hidden--visually {border: 0;clip: rect(1px 1px 1px 1px);clip: rect(1px, 1px, 1px, 1px);height: 1px;margin: -1px;overflow: hidden;padding: 0;position: absolute;width: 1px;}#sk-container-id-3 div.sk-estimator {font-family: monospace;background-color: #f0f8ff;border: 1px dotted black;border-radius: 0.25em;box-sizing: border-box;margin-bottom: 0.5em;}#sk-container-id-3 div.sk-estimator:hover {background-color: #d4ebff;}#sk-container-id-3 div.sk-parallel-item::after {content: \"\";width: 100%;border-bottom: 1px solid gray;flex-grow: 1;}#sk-container-id-3 div.sk-label:hover label.sk-toggleable__label {background-color: #d4ebff;}#sk-container-id-3 div.sk-serial::before {content: \"\";position: absolute;border-left: 1px solid gray;box-sizing: border-box;top: 0;bottom: 0;left: 50%;z-index: 0;}#sk-container-id-3 div.sk-serial {display: flex;flex-direction: column;align-items: center;background-color: white;padding-right: 0.2em;padding-left: 0.2em;position: relative;}#sk-container-id-3 div.sk-item {position: relative;z-index: 1;}#sk-container-id-3 div.sk-parallel {display: flex;align-items: stretch;justify-content: center;background-color: white;position: relative;}#sk-container-id-3 div.sk-item::before, #sk-container-id-3 div.sk-parallel-item::before {content: \"\";position: absolute;border-left: 1px solid gray;box-sizing: border-box;top: 0;bottom: 0;left: 50%;z-index: -1;}#sk-container-id-3 div.sk-parallel-item {display: flex;flex-direction: column;z-index: 1;position: relative;background-color: white;}#sk-container-id-3 div.sk-parallel-item:first-child::after {align-self: flex-end;width: 50%;}#sk-container-id-3 div.sk-parallel-item:last-child::after {align-self: flex-start;width: 50%;}#sk-container-id-3 div.sk-parallel-item:only-child::after {width: 0;}#sk-container-id-3 div.sk-dashed-wrapped {border: 1px dashed gray;margin: 0 0.4em 0.5em 0.4em;box-sizing: border-box;padding-bottom: 0.4em;background-color: white;}#sk-container-id-3 div.sk-label label {font-family: monospace;font-weight: bold;display: inline-block;line-height: 1.2em;}#sk-container-id-3 div.sk-label-container {text-align: center;}#sk-container-id-3 div.sk-container {/* jupyter's `normalize.less` sets `[hidden] { display: none; }` but bootstrap.min.css set `[hidden] { display: none !important; }` so we also need the `!important` here to be able to override the default hidden behavior on the sphinx rendered scikit-learn.org. See: https://github.com/scikit-learn/scikit-learn/issues/21755 */display: inline-block !important;position: relative;}#sk-container-id-3 div.sk-text-repr-fallback {display: none;}</style><div id=\"sk-container-id-3\" class=\"sk-top-container\"><div class=\"sk-text-repr-fallback\"><pre>RandomizedSearchCV(cv=5,\n",
       "                   estimator=XGBRegressor(base_score=None, booster=None,\n",
       "                                          callbacks=None,\n",
       "                                          colsample_bylevel=None,\n",
       "                                          colsample_bynode=None,\n",
       "                                          colsample_bytree=None, device=None,\n",
       "                                          early_stopping_rounds=None,\n",
       "                                          enable_categorical=False,\n",
       "                                          eval_metric=None, feature_types=None,\n",
       "                                          gamma=None, grow_policy=None,\n",
       "                                          importance_type=None,\n",
       "                                          interaction_constraints=None,\n",
       "                                          learning_rate=...\n",
       "                   n_iter=50, n_jobs=-1,\n",
       "                   param_distributions={&#x27;colsample_bytree&#x27;: [0.6, 0.7, 0.8, 0.9,\n",
       "                                                             1.0],\n",
       "                                        &#x27;gamma&#x27;: [0, 0.1, 0.2, 0.3, 0.4],\n",
       "                                        &#x27;learning_rate&#x27;: [0.001, 0.01, 0.05,\n",
       "                                                          0.1, 0.2],\n",
       "                                        &#x27;max_depth&#x27;: [3, 4, 5, 6, 7],\n",
       "                                        &#x27;n_estimators&#x27;: [100, 200, 300, 400,\n",
       "                                                         500],\n",
       "                                        &#x27;reg_alpha&#x27;: [0, 0.1, 0.2, 0.3, 0.4],\n",
       "                                        &#x27;reg_lambda&#x27;: [0, 0.1, 0.2, 0.3, 0.4],\n",
       "                                        &#x27;subsample&#x27;: [0.6, 0.7, 0.8, 0.9, 1.0]},\n",
       "                   random_state=42, scoring=&#x27;r2&#x27;, verbose=1)</pre><b>In a Jupyter environment, please rerun this cell to show the HTML representation or trust the notebook. <br />On GitHub, the HTML representation is unable to render, please try loading this page with nbviewer.org.</b></div><div class=\"sk-container\" hidden><div class=\"sk-item sk-dashed-wrapped\"><div class=\"sk-label-container\"><div class=\"sk-label sk-toggleable\"><input class=\"sk-toggleable__control sk-hidden--visually\" id=\"sk-estimator-id-3\" type=\"checkbox\" ><label for=\"sk-estimator-id-3\" class=\"sk-toggleable__label sk-toggleable__label-arrow\">RandomizedSearchCV</label><div class=\"sk-toggleable__content\"><pre>RandomizedSearchCV(cv=5,\n",
       "                   estimator=XGBRegressor(base_score=None, booster=None,\n",
       "                                          callbacks=None,\n",
       "                                          colsample_bylevel=None,\n",
       "                                          colsample_bynode=None,\n",
       "                                          colsample_bytree=None, device=None,\n",
       "                                          early_stopping_rounds=None,\n",
       "                                          enable_categorical=False,\n",
       "                                          eval_metric=None, feature_types=None,\n",
       "                                          gamma=None, grow_policy=None,\n",
       "                                          importance_type=None,\n",
       "                                          interaction_constraints=None,\n",
       "                                          learning_rate=...\n",
       "                   n_iter=50, n_jobs=-1,\n",
       "                   param_distributions={&#x27;colsample_bytree&#x27;: [0.6, 0.7, 0.8, 0.9,\n",
       "                                                             1.0],\n",
       "                                        &#x27;gamma&#x27;: [0, 0.1, 0.2, 0.3, 0.4],\n",
       "                                        &#x27;learning_rate&#x27;: [0.001, 0.01, 0.05,\n",
       "                                                          0.1, 0.2],\n",
       "                                        &#x27;max_depth&#x27;: [3, 4, 5, 6, 7],\n",
       "                                        &#x27;n_estimators&#x27;: [100, 200, 300, 400,\n",
       "                                                         500],\n",
       "                                        &#x27;reg_alpha&#x27;: [0, 0.1, 0.2, 0.3, 0.4],\n",
       "                                        &#x27;reg_lambda&#x27;: [0, 0.1, 0.2, 0.3, 0.4],\n",
       "                                        &#x27;subsample&#x27;: [0.6, 0.7, 0.8, 0.9, 1.0]},\n",
       "                   random_state=42, scoring=&#x27;r2&#x27;, verbose=1)</pre></div></div></div><div class=\"sk-parallel\"><div class=\"sk-parallel-item\"><div class=\"sk-item\"><div class=\"sk-label-container\"><div class=\"sk-label sk-toggleable\"><input class=\"sk-toggleable__control sk-hidden--visually\" id=\"sk-estimator-id-4\" type=\"checkbox\" ><label for=\"sk-estimator-id-4\" class=\"sk-toggleable__label sk-toggleable__label-arrow\">estimator: XGBRegressor</label><div class=\"sk-toggleable__content\"><pre>XGBRegressor(base_score=None, booster=None, callbacks=None,\n",
       "             colsample_bylevel=None, colsample_bynode=None,\n",
       "             colsample_bytree=None, device=None, early_stopping_rounds=None,\n",
       "             enable_categorical=False, eval_metric=None, feature_types=None,\n",
       "             gamma=None, grow_policy=None, importance_type=None,\n",
       "             interaction_constraints=None, learning_rate=None, max_bin=None,\n",
       "             max_cat_threshold=None, max_cat_to_onehot=None,\n",
       "             max_delta_step=None, max_depth=None, max_leaves=None,\n",
       "             min_child_weight=None, missing=nan, monotone_constraints=None,\n",
       "             multi_strategy=None, n_estimators=None, n_jobs=None,\n",
       "             num_parallel_tree=None, random_state=None, ...)</pre></div></div></div><div class=\"sk-serial\"><div class=\"sk-item\"><div class=\"sk-estimator sk-toggleable\"><input class=\"sk-toggleable__control sk-hidden--visually\" id=\"sk-estimator-id-5\" type=\"checkbox\" ><label for=\"sk-estimator-id-5\" class=\"sk-toggleable__label sk-toggleable__label-arrow\">XGBRegressor</label><div class=\"sk-toggleable__content\"><pre>XGBRegressor(base_score=None, booster=None, callbacks=None,\n",
       "             colsample_bylevel=None, colsample_bynode=None,\n",
       "             colsample_bytree=None, device=None, early_stopping_rounds=None,\n",
       "             enable_categorical=False, eval_metric=None, feature_types=None,\n",
       "             gamma=None, grow_policy=None, importance_type=None,\n",
       "             interaction_constraints=None, learning_rate=None, max_bin=None,\n",
       "             max_cat_threshold=None, max_cat_to_onehot=None,\n",
       "             max_delta_step=None, max_depth=None, max_leaves=None,\n",
       "             min_child_weight=None, missing=nan, monotone_constraints=None,\n",
       "             multi_strategy=None, n_estimators=None, n_jobs=None,\n",
       "             num_parallel_tree=None, random_state=None, ...)</pre></div></div></div></div></div></div></div></div></div></div>"
      ],
      "text/plain": [
       "RandomizedSearchCV(cv=5,\n",
       "                   estimator=XGBRegressor(base_score=None, booster=None,\n",
       "                                          callbacks=None,\n",
       "                                          colsample_bylevel=None,\n",
       "                                          colsample_bynode=None,\n",
       "                                          colsample_bytree=None, device=None,\n",
       "                                          early_stopping_rounds=None,\n",
       "                                          enable_categorical=False,\n",
       "                                          eval_metric=None, feature_types=None,\n",
       "                                          gamma=None, grow_policy=None,\n",
       "                                          importance_type=None,\n",
       "                                          interaction_constraints=None,\n",
       "                                          learning_rate=...\n",
       "                   n_iter=50, n_jobs=-1,\n",
       "                   param_distributions={'colsample_bytree': [0.6, 0.7, 0.8, 0.9,\n",
       "                                                             1.0],\n",
       "                                        'gamma': [0, 0.1, 0.2, 0.3, 0.4],\n",
       "                                        'learning_rate': [0.001, 0.01, 0.05,\n",
       "                                                          0.1, 0.2],\n",
       "                                        'max_depth': [3, 4, 5, 6, 7],\n",
       "                                        'n_estimators': [100, 200, 300, 400,\n",
       "                                                         500],\n",
       "                                        'reg_alpha': [0, 0.1, 0.2, 0.3, 0.4],\n",
       "                                        'reg_lambda': [0, 0.1, 0.2, 0.3, 0.4],\n",
       "                                        'subsample': [0.6, 0.7, 0.8, 0.9, 1.0]},\n",
       "                   random_state=42, scoring='r2', verbose=1)"
      ]
     },
     "execution_count": 31,
     "metadata": {},
     "output_type": "execute_result"
    }
   ],
   "source": [
    "# Randomized Search hyperparameter\n",
    "xgb_reg = XGBRegressor()\n",
    "param_dist = {\n",
    "    'n_estimators': [100, 200, 300, 400, 500],\n",
    "    'learning_rate': [0.001, 0.01, 0.05, 0.1, 0.2],\n",
    "    'max_depth': [3, 4, 5, 6, 7],\n",
    "    'subsample': [0.6, 0.7, 0.8, 0.9, 1.0],\n",
    "    'colsample_bytree': [0.6, 0.7, 0.8, 0.9, 1.0],\n",
    "    'gamma': [0, 0.1, 0.2, 0.3, 0.4],\n",
    "    'reg_alpha': [0, 0.1, 0.2, 0.3, 0.4],\n",
    "    'reg_lambda': [0, 0.1, 0.2, 0.3, 0.4]\n",
    "}\n",
    "\n",
    "random_search_xgb = RandomizedSearchCV(xgb_reg, param_distributions=param_dist, n_iter=50, scoring='r2', cv=5, verbose=1, random_state=42, n_jobs=-1)\n",
    "random_search_xgb.fit(X_train, y_train)"
   ]
  },
  {
   "cell_type": "code",
   "execution_count": 32,
   "id": "8e4804a9-6ec3-4d90-92a5-30b5fe12174c",
   "metadata": {},
   "outputs": [],
   "source": [
    "k_folds = KFold(n_splits = 5)\n",
    "xgb_mae = cross_val_score(random_search_xgb.best_estimator_, X, y.values.ravel(), cv = k_folds, scoring= \"neg_mean_absolute_error\") * -1\n",
    "xgb_r2 = cross_val_score(random_search_xgb.best_estimator_, X, y.values.ravel(), cv = k_folds, scoring= \"r2\")\n",
    "xgb_rmse = np.sqrt(cross_val_score(random_search_xgb.best_estimator_, X, y.values.ravel(), cv = k_folds, scoring= \"neg_mean_squared_error\")*-1)"
   ]
  },
  {
   "cell_type": "code",
   "execution_count": 33,
   "id": "cf7134fd-61a4-4101-86a1-13bf3788e821",
   "metadata": {},
   "outputs": [
    {
     "name": "stdout",
     "output_type": "stream",
     "text": [
      "Best parameters found:  {'subsample': 0.6, 'reg_lambda': 0.2, 'reg_alpha': 0.3, 'n_estimators': 100, 'max_depth': 4, 'learning_rate': 0.01, 'gamma': 0.2, 'colsample_bytree': 0.8}\n"
     ]
    }
   ],
   "source": [
    "best_params_xgb = random_search_xgb.best_params_\n",
    "print(\"Best parameters found: \", best_params_xgb)\n",
    "\n",
    "best_model_xgb = random_search_xgb.best_estimator_\n",
    "tunned_pred = best_model_xgb.predict(X_test)"
   ]
  },
  {
   "cell_type": "code",
   "execution_count": 34,
   "id": "787af6b0-5d77-4285-96c5-d6a068b1c2fb",
   "metadata": {},
   "outputs": [
    {
     "name": "stdout",
     "output_type": "stream",
     "text": [
      "RMSE :  44.122832\n",
      "mean absolute score: 33.011986434173586\n",
      "r2 score: 0.2638100732432651\n"
     ]
    }
   ],
   "source": [
    "tunned_xgb_rmse = np.sqrt(mean_squared_error(y_test, tunned_pred)) \n",
    "print(\"RMSE : % f\" %(tunned_xgb_rmse))\n",
    "tunned_xgb_mae = mean_absolute_error(y_test, tunned_pred)\n",
    "print('mean absolute score:', tunned_xgb_mae)\n",
    "tunned_xgb_r2 = r2_score(y_test, tunned_pred)\n",
    "print('r2 score:',tunned_xgb_r2)"
   ]
  },
  {
   "cell_type": "code",
   "execution_count": 35,
   "id": "c041682b-9fa4-4e14-a253-213878a1bb5b",
   "metadata": {},
   "outputs": [
    {
     "data": {
      "text/plain": [
       "{'Tunned': {'r2': array([-9.46526353,  0.32129686,  0.12737015, -0.01737706, -0.17451524]),\n",
       "  'rmse': array([29.53026566, 44.93650802, 66.65648532, 36.68341786, 69.70109823]),\n",
       "  'mae': array([26.90771885, 33.69793083, 42.5820677 , 24.03922745, 60.99115489])},\n",
       " 'Untunned': {'r2': array([-7.89107373,  0.11195772,  0.10353587, -0.11386045, -0.31629395]),\n",
       "  'rmse': array([27.21882513, 51.40154965, 67.56065259, 38.38346832, 73.78816939]),\n",
       "  'mae': array([25.80334027, 35.6217903 , 44.53034017, 29.85397514, 60.57352374])}}"
      ]
     },
     "execution_count": 35,
     "metadata": {},
     "output_type": "execute_result"
    }
   ],
   "source": [
    "xgb_results = {\n",
    "    \"Tunned\": {\"r2\": xgb_r2, \"rmse\": xgb_rmse, \"mae\": xgb_mae},\n",
    "    \"Untunned\": {\"r2\": untunned_r2_results_xgb, \"rmse\": untunned_rmse_results_xgb, \"mae\": untunned_mae_results_xgb}\n",
    "}\n",
    "xgb_results"
   ]
  },
  {
   "cell_type": "code",
   "execution_count": 36,
   "id": "a38b7531-44e5-4622-883e-cbc013d26597",
   "metadata": {},
   "outputs": [
    {
     "data": {
      "image/png": "[encoded data removed]",
      "text/plain": [
       "<Figure size 1800x600 with 3 Axes>"
      ]
     },
     "metadata": {},
     "output_type": "display_data"
    }
   ],
   "source": [
    "visualize(xgb_results, \"Xgboost\")"
   ]
  },
  {
   "cell_type": "markdown",
   "id": "8514a885-1a1d-4e1a-8c64-7c0984842f9c",
   "metadata": {},
   "source": [
    "## Gradient Boost"
   ]
  },
  {
   "cell_type": "markdown",
   "id": "f3ea5705-2810-4c65-91a0-e591dbb32946",
   "metadata": {},
   "source": [
    "### Untunned Training with Cross Validation"
   ]
  },
  {
   "cell_type": "code",
   "execution_count": 37,
   "id": "97843557-09f4-4546-a2fe-736ac83722b5",
   "metadata": {},
   "outputs": [
    {
     "name": "stdout",
     "output_type": "stream",
     "text": [
      "Root mean Square error: 40.78\n",
      "Mean Absolute error: 25.26\n",
      "r2 score: 0.37\n"
     ]
    }
   ],
   "source": [
    " #Instantiate Gradient Boosting Regressor\n",
    "from sklearn.ensemble import GradientBoostingRegressor\n",
    "from sklearn.metrics import mean_squared_error\n",
    "gbr = GradientBoostingRegressor(loss='absolute_error',\n",
    "                                learning_rate=0.01,\n",
    "                                n_estimators=1000,\n",
    "                                max_depth = 6, \n",
    "                                random_state = 42,\n",
    "                                max_features = 5)\n",
    " \n",
    "# Fit to training set\n",
    "gbr.fit(X_train, y_train)\n",
    " \n",
    "# Predict on test set\n",
    "y_pred = gbr.predict(X_test)\n",
    " \n",
    "# test set RMSE\n",
    "untunned_test_rmse_gb = mean_squared_error(y_test, y_pred) ** (1 / 2)\n",
    "untunned_test_r2_gb = r2_score(y_test, y_pred)\n",
    "untunned_test_mae_gb = mean_absolute_error(y_test, y_pred)\n",
    "# Print rmse\n",
    "print('Root mean Square error: {:.2f}'.format(untunned_test_rmse_gb))\n",
    "print('Mean Absolute error: {:.2f}'.format(untunned_test_mae_gb))\n",
    "print('r2 score: {:.2f}'.format(untunned_test_r2_gb))"
   ]
  },
  {
   "cell_type": "code",
   "execution_count": 38,
   "id": "3260f5ce-b37f-44e6-94c8-8aa6b0503728",
   "metadata": {},
   "outputs": [],
   "source": [
    "k_folds = KFold(n_splits = 5)\n",
    "untunned_gb_mae = cross_val_score(gbr, X, y.values.ravel(), cv = k_folds, scoring= \"neg_mean_absolute_error\") * -1\n",
    "untunned_gb_r2 = cross_val_score(gbr, X, y.values.ravel(), cv = k_folds, scoring= \"r2\")\n",
    "untunned_gb_rmse = np.sqrt(cross_val_score(gbr, X, y.values.ravel(), cv = k_folds, scoring= \"neg_mean_squared_error\")*-1)"
   ]
  },
  {
   "cell_type": "markdown",
   "id": "da3d43cb-be16-485d-bcae-a921fdcde2a1",
   "metadata": {},
   "source": [
    "### Finetuning with RandomizedSearchCV"
   ]
  },
  {
   "cell_type": "code",
   "execution_count": 39,
   "id": "5fa12fa3-3cf5-4adf-9f31-3383767f6d18",
   "metadata": {},
   "outputs": [
    {
     "name": "stdout",
     "output_type": "stream",
     "text": [
      "Best Hyperparameters:  {'subsample': 0.9, 'n_estimators': 50, 'min_samples_split': 3, 'min_samples_leaf': 2, 'max_depth': 5, 'learning_rate': 0.3}\n"
     ]
    }
   ],
   "source": [
    "param_dist = {\n",
    "    'n_estimators': np.arange(50, 201, 50),\n",
    "    'learning_rate': np.linspace(0.01, 0.3, 10),\n",
    "    'max_depth': np.arange(3, 11, 2),\n",
    "    'min_samples_split': np.arange(2, 11),\n",
    "    'min_samples_leaf': np.arange(1, 11),\n",
    "    'subsample': np.linspace(0.6, 1.0, 5)\n",
    "}\n",
    "\n",
    "random_search_gbr = RandomizedSearchCV(\n",
    "    estimator= GradientBoostingRegressor(),\n",
    "    scoring=scoring,\n",
    "    refit=\"r2\",\n",
    "    param_distributions=param_dist,\n",
    "    n_iter=100,  # Number of parameter settings sampled\n",
    "    cv=5,  # Number of folds in cross-validation\n",
    "    random_state=42,\n",
    "    n_jobs=-1  # Use all available cores\n",
    ")\n",
    "\n",
    "random_search_gbr.fit(X_train, y_train)\n",
    "\n",
    "# Extract the best hyperparameters\n",
    "best_params_gbr = random_search_gbr.best_params_\n",
    "print(\"Best Hyperparameters: \", best_params_gbr)\n",
    "\n",
    "# Extract cross-validation results\n",
    "cv_results_gbr = pd.DataFrame(random_search_gbr.cv_results_)\n"
   ]
  },
  {
   "cell_type": "code",
   "execution_count": 40,
   "id": "b719a48a-61c8-40a9-b75b-17003891d759",
   "metadata": {},
   "outputs": [],
   "source": [
    "k_folds = KFold(n_splits = 5)\n",
    "tunned_mae_gb = cross_val_score(random_search_gbr.best_estimator_, X, y.values.ravel(), cv = k_folds, scoring= \"neg_mean_absolute_error\") * -1\n",
    "tunned_r2_gb = cross_val_score(random_search_gbr.best_estimator_, X, y.values.ravel(), cv = k_folds, scoring= \"r2\")\n",
    "tunned_rmse_gb = np.sqrt(cross_val_score(random_search_gbr.best_estimator_, X, y.values.ravel(), cv = k_folds, scoring= \"neg_mean_squared_error\")*-1)"
   ]
  },
  {
   "cell_type": "code",
   "execution_count": 41,
   "id": "cc804169-f1cc-4dcc-8009-fa7cc587ff18",
   "metadata": {},
   "outputs": [],
   "source": [
    "gbr_r2 = cv_results_gbr['mean_test_r2'] *-1\n",
    "mean_gbr_r2 = gbr_r2.mean()\n",
    "gbr_mae = cv_results_gbr['mean_test_neg_mean_absolute_error'] * -1\n",
    "mean_gbr_mae = gbr_mae.mean()\n",
    "gbr_rmse = np.sqrt(cv_results_gbr['mean_test_neg_mean_squared_error'] * -1)\n",
    "mean_gbr_rmse = gbr_rmse.mean()"
   ]
  },
  {
   "cell_type": "code",
   "execution_count": 42,
   "id": "408e861a-22e1-4303-8a15-be967bf2373e",
   "metadata": {},
   "outputs": [
    {
     "data": {
      "text/plain": [
       "{'Tunned': {'r2': array([-3.35508187e+01,  1.67602960e-02,  8.56188709e-02, -8.91054696e-01,\n",
       "         -3.86480379e-01]),\n",
       "  'rmse': array([62.64233847, 47.6136975 , 68.77346436, 47.6639387 , 88.50620481]),\n",
       "  'mae': array([39.10333832, 28.57733137, 36.1965259 , 33.62740718, 67.71611263])},\n",
       " 'Untunned': {'r2': array([-13.91931148,   0.33198967,   0.08871894,   0.14120819,\n",
       "          -0.12513746]),\n",
       "  'rmse': array([35.25872958, 44.58112057, 68.11669205, 33.7033266 , 68.22021517]),\n",
       "  'mae': array([25.56598725, 33.16324356, 39.67400676, 18.7945624 , 58.68425773])}}"
      ]
     },
     "execution_count": 42,
     "metadata": {},
     "output_type": "execute_result"
    }
   ],
   "source": [
    "gb_results = {\n",
    "    \"Tunned\": {\"r2\": tunned_r2_gb, \"rmse\": tunned_rmse_gb, \"mae\": tunned_mae_gb},\n",
    "    \"Untunned\": {\"r2\": untunned_gb_r2, \"rmse\": untunned_gb_rmse, \"mae\": untunned_gb_mae}\n",
    "}\n",
    "gb_results"
   ]
  },
  {
   "cell_type": "code",
   "execution_count": 43,
   "id": "547802ad-8825-40ce-ae39-569f90adedd9",
   "metadata": {},
   "outputs": [
    {
     "data": {
      "image/png": "[encoded data removed]",
      "text/plain": [
       "<Figure size 1800x600 with 3 Axes>"
      ]
     },
     "metadata": {},
     "output_type": "display_data"
    }
   ],
   "source": [
    "visualize(xgb_results, \"Gradient Boosting\")"
   ]
  },
  {
   "cell_type": "markdown",
   "id": "27a816bd-2af8-4459-a906-79f80963de2f",
   "metadata": {},
   "source": [
    "## ANN(Multilayer Perceptron)"
   ]
  },
  {
   "cell_type": "markdown",
   "id": "40c9292b-5b65-4dd8-83ab-aa325d10fa4f",
   "metadata": {},
   "source": [
    "### Untunned Training with Cross Validation"
   ]
  },
  {
   "cell_type": "code",
   "execution_count": 44,
   "id": "cc57e87a-7613-4ee5-821d-44bee59b99b9",
   "metadata": {},
   "outputs": [],
   "source": [
    "# Normalize the data\n",
    "scaler = StandardScaler()\n",
    "X_train_scaled =  scaler.fit_transform(X_train)\n",
    "X_test_scaled = scaler.transform(X_test)\n",
    "X_scaled = scaler.transform(X)"
   ]
  },
  {
   "cell_type": "code",
   "execution_count": 45,
   "id": "8b26ad9a-0b9e-4cb3-a67a-877651edc7d7",
   "metadata": {},
   "outputs": [],
   "source": [
    "# Create the model with increased max_iter\n",
    "scoring = {\n",
    "    'rmse': make_scorer(mean_squared_error, greater_is_better=False, squared=False),\n",
    "    'mae': make_scorer(mean_absolute_error, greater_is_better=False),\n",
    "    'r2': make_scorer(r2_score)\n",
    "}\n",
    "untunned_mlp = MLPRegressor(hidden_layer_sizes=(100,), max_iter=1000, random_state=42)\n",
    "scores = cross_validate(untunned_mlp, X_train_scaled, y_train, cv=5, scoring=scoring, return_train_score=True)\n"
   ]
  },
  {
   "cell_type": "code",
   "execution_count": 46,
   "id": "aa565343-44d5-4a9d-ab46-0398d4a67cfb",
   "metadata": {},
   "outputs": [
    {
     "name": "stdout",
     "output_type": "stream",
     "text": [
      "RMSE: 48.405579389974505\n",
      "MAE: 35.70849026575733\n",
      "R²: -0.9683907978339665\n"
     ]
    }
   ],
   "source": [
    "print(\"RMSE:\", -np.mean(scores['test_rmse']))\n",
    "print(\"MAE:\", -np.mean(scores['test_mae']))\n",
    "print(\"R²:\", np.mean(scores['test_r2']))"
   ]
  },
  {
   "cell_type": "code",
   "execution_count": 47,
   "id": "c13fa9e7-6375-4b69-9905-ddaba018cec9",
   "metadata": {},
   "outputs": [],
   "source": [
    "untunned_r2_mlp = np.mean(scores['test_r2'])\n",
    "untunned_rmse_mlp = -np.mean(scores['test_rmse'])\n",
    "untunned_mae_mlp = -np.mean(scores['test_mae'])\n"
   ]
  },
  {
   "cell_type": "markdown",
   "id": "c2616c1b-b9d8-4974-aa02-73cc377493aa",
   "metadata": {},
   "source": [
    "### Finetuning with GridSearchCV(Don't use it on massive dataset)"
   ]
  },
  {
   "cell_type": "code",
   "execution_count": 48,
   "id": "b3cf8856-1578-4b7f-947e-333839c314dd",
   "metadata": {},
   "outputs": [],
   "source": [
    "param_grid = {\n",
    "    'hidden_layer_sizes': [(5,), (10,), (20,), (10, 10), (20, 10)],\n",
    "    'activation': ['identity', 'logistic', 'tanh', 'relu'],\n",
    "    'solver': ['adam', 'sgd'],\n",
    "    # 'alpha': [0.0001, 0.001, 0.01],\n",
    "    # 'batch_size': [10, 20, 40],\n",
    "    'learning_rate': ['constant', 'adaptive'],\n",
    "    'learning_rate_init': [0.001, 0.01, 0.1],  # Added learning rate initialization\n",
    "}"
   ]
  },
  {
   "cell_type": "code",
   "execution_count": 49,
   "id": "91c8e561-a3e6-446b-8b96-24b036c09b09",
   "metadata": {},
   "outputs": [],
   "source": [
    "# Create the model with increased max_iter\n",
    "mlp = MLPRegressor(max_iter=2000)"
   ]
  },
  {
   "cell_type": "code",
   "execution_count": 50,
   "id": "0514d3f4-4ffe-4165-b6b3-e495d860b8c9",
   "metadata": {},
   "outputs": [
    {
     "name": "stdout",
     "output_type": "stream",
     "text": [
      "Best: -0.1410796269043329 using {'activation': 'logistic', 'hidden_layer_sizes': (10, 10), 'learning_rate': 'adaptive', 'learning_rate_init': 0.001, 'solver': 'adam'}\n"
     ]
    }
   ],
   "source": [
    "# Perform Grid Search with threading backend\n",
    "with parallel_backend('threading'):\n",
    "    grid = GridSearchCV(estimator=mlp, param_grid=param_grid, n_jobs=-1, cv=5, scoring='r2', return_train_score=True)\n",
    "    grid_result = grid.fit(X_train_scaled, y_train)\n",
    "\n",
    "# Summarize the results\n",
    "print(f\"Best: {grid_result.best_score_} using {grid_result.best_params_}\")\n",
    "best_params_ann = grid_result.best_params_"
   ]
  },
  {
   "cell_type": "code",
   "execution_count": 51,
   "id": "02bda16a-a434-43d2-9c83-b0b5e5174c9c",
   "metadata": {},
   "outputs": [
    {
     "name": "stdout",
     "output_type": "stream",
     "text": [
      "Test RMSE: 53.67422192699719\n",
      "Test MAE: 29.802635643314066\n",
      "Test R2: -0.08941820527613631\n"
     ]
    }
   ],
   "source": [
    "# Evaluate the best model on the test set\n",
    "best_model = grid_result.best_estimator_\n",
    "y_pred = best_model.predict(X_test_scaled)\n",
    "mse_ann = mean_squared_error(y_test, y_pred)\n",
    "mae_ann = mean_absolute_error(y_test, y_pred)\n",
    "r2_ann = r2_score(y_test, y_pred)\n",
    "rmse_ann = np.sqrt(mse_ann)\n",
    "print(f'Test RMSE: {rmse_ann}')\n",
    "print(f'Test MAE: {mae_ann}')\n",
    "print(f'Test R2: {r2_ann}')"
   ]
  },
  {
   "cell_type": "code",
   "execution_count": 52,
   "id": "ebf79362-2f40-4818-8a2e-67305a9c1704",
   "metadata": {},
   "outputs": [],
   "source": [
    "k_folds = KFold(n_splits = 5)\n",
    "tunned_mae_ann = cross_val_score(best_model, X_scaled, y.values.ravel(), cv = k_folds, scoring= \"neg_mean_absolute_error\") * -1\n",
    "tunned_r2_ann = cross_val_score(best_model, X_scaled, y.values.ravel(), cv = k_folds, scoring= \"r2\")\n",
    "tunned_rmse_ann = np.sqrt(cross_val_score(best_model, X_scaled, y.values.ravel(), cv = k_folds, scoring= \"neg_mean_squared_error\")*-1)"
   ]
  },
  {
   "cell_type": "code",
   "execution_count": 53,
   "id": "08c7e5ae-65f2-46cc-9120-adc1000c3a18",
   "metadata": {},
   "outputs": [
    {
     "data": {
      "text/plain": [
       "{'Tunned': {'r2': array([-0.39489391, -0.04097873, -0.13765673, -0.01764541, -0.78850195]),\n",
       "  'rmse': array([11.26097164, 55.45294531, 76.45529524, 36.87043849, 85.57938802]),\n",
       "  'mae': array([ 9.00056546, 26.47869455, 38.66319921, 23.28552994, 62.48510392])},\n",
       " 'Untunned': {'r2': array([-0.16958752,  0.67014063, -1.67751422,  0.42661669, -4.09160958]),\n",
       "  'rmse': array([86.53961533, 42.34830504, 39.00174645, 30.25462862, 43.88360151]),\n",
       "  'mae': array([58.44343015, 30.71474014, 28.36103084, 26.12346546, 34.89978473])}}"
      ]
     },
     "execution_count": 53,
     "metadata": {},
     "output_type": "execute_result"
    }
   ],
   "source": [
    "ann_results = {\n",
    "    \"Tunned\": {\"r2\": tunned_r2_ann, \"rmse\": tunned_rmse_ann, \"mae\": tunned_mae_ann},\n",
    "    \"Untunned\": {\"r2\": scores['test_r2'], \"rmse\": -scores['test_rmse'], \"mae\": -scores['test_mae']}\n",
    "}\n",
    "ann_results"
   ]
  },
  {
   "cell_type": "code",
   "execution_count": 54,
   "id": "abe51d7a-fad1-4d4f-94ba-3f2a2a760a0d",
   "metadata": {},
   "outputs": [
    {
     "data": {
      "image/png": "[encoded data removed]",
      "text/plain": [
       "<Figure size 1800x600 with 3 Axes>"
      ]
     },
     "metadata": {},
     "output_type": "display_data"
    }
   ],
   "source": [
    "visualize(ann_results, \"ANN\")"
   ]
  },
  {
   "cell_type": "markdown",
   "id": "2952733e-8c97-48d7-bdaa-730c9127b3b0",
   "metadata": {},
   "source": [
    "## Results"
   ]
  },
  {
   "cell_type": "markdown",
   "id": "d0a2c7cc-7e97-4560-92d8-e0f8ae86679e",
   "metadata": {},
   "source": [
    "### Untunned Results"
   ]
  },
  {
   "cell_type": "code",
   "execution_count": 55,
   "id": "7efca6cd-75ac-4370-b989-dfdf0562e968",
   "metadata": {},
   "outputs": [],
   "source": [
    "#before fine tuning\n",
    "untuned_results ={\"Scoring\": [],\n",
    "               \"random forest\":[],\n",
    "               \"decision tree\":[],\n",
    "                \"Xgboost\": [],\n",
    "                \"gradient boost\": [],\n",
    "                \"ann\": []\n",
    "              }\n",
    "untuned_results[\"Scoring\"].append(\"r2_score\")\n",
    "untuned_results[\"random forest\"].append(average_untuned_r2_rf)\n",
    "untuned_results[\"decision tree\"].append(average_untuned_r2_dt)\n",
    "untuned_results[\"Xgboost\"].append(untunned_xgb_r2)\n",
    "untuned_results[\"gradient boost\"].append(untunned_test_r2_gb)\n",
    "untuned_results[\"ann\"].append(untunned_r2_mlp)\n",
    "\n",
    "untuned_results[\"Scoring\"].append(\"MAE\")\n",
    "untuned_results[\"random forest\"].append(average_untuned_mae_rf)\n",
    "untuned_results[\"decision tree\"].append(average_untuned_mae_dt)\n",
    "untuned_results[\"Xgboost\"].append(untunned_xgb_mae)\n",
    "untuned_results[\"gradient boost\"].append(untunned_test_mae_gb)\n",
    "untuned_results[\"ann\"].append(untunned_mae_mlp)\n",
    "\n",
    "untuned_results[\"Scoring\"].append(\"RMSE\")\n",
    "untuned_results[\"random forest\"].append(average_untuned_rmse_rf)\n",
    "untuned_results[\"decision tree\"].append(average_untuned_rmse_dt)\n",
    "untuned_results[\"Xgboost\"].append(untunned_xgb_rmse)\n",
    "untuned_results[\"gradient boost\"].append(untunned_test_rmse_gb)\n",
    "untuned_results[\"ann\"].append(untunned_rmse_mlp)\n"
   ]
  },
  {
   "cell_type": "code",
   "execution_count": 56,
   "id": "977c975a-da1f-4f2a-ad70-23cc1156a726",
   "metadata": {},
   "outputs": [
    {
     "data": {
      "text/html": [
       "<div>\n",
       "<style scoped>\n",
       "    .dataframe tbody tr th:only-of-type {\n",
       "        vertical-align: middle;\n",
       "    }\n",
       "\n",
       "    .dataframe tbody tr th {\n",
       "        vertical-align: top;\n",
       "    }\n",
       "\n",
       "    .dataframe thead th {\n",
       "        text-align: right;\n",
       "    }\n",
       "</style>\n",
       "<table border=\"1\" class=\"dataframe\">\n",
       "  <thead>\n",
       "    <tr style=\"text-align: right;\">\n",
       "      <th></th>\n",
       "      <th>Scoring</th>\n",
       "      <th>random forest</th>\n",
       "      <th>decision tree</th>\n",
       "      <th>Xgboost</th>\n",
       "      <th>gradient boost</th>\n",
       "      <th>ann</th>\n",
       "    </tr>\n",
       "  </thead>\n",
       "  <tbody>\n",
       "    <tr>\n",
       "      <th>0</th>\n",
       "      <td>r2_score</td>\n",
       "      <td>-2.668805</td>\n",
       "      <td>-6.864500</td>\n",
       "      <td>0.125854</td>\n",
       "      <td>0.371110</td>\n",
       "      <td>-0.968391</td>\n",
       "    </tr>\n",
       "    <tr>\n",
       "      <th>1</th>\n",
       "      <td>MAE</td>\n",
       "      <td>35.958675</td>\n",
       "      <td>46.111726</td>\n",
       "      <td>35.111087</td>\n",
       "      <td>25.264160</td>\n",
       "      <td>35.708490</td>\n",
       "    </tr>\n",
       "    <tr>\n",
       "      <th>2</th>\n",
       "      <td>RMSE</td>\n",
       "      <td>51.330398</td>\n",
       "      <td>65.298542</td>\n",
       "      <td>48.079548</td>\n",
       "      <td>40.780805</td>\n",
       "      <td>48.405579</td>\n",
       "    </tr>\n",
       "  </tbody>\n",
       "</table>\n",
       "</div>"
      ],
      "text/plain": [
       "    Scoring  random forest  decision tree    Xgboost  gradient boost  \\\n",
       "0  r2_score      -2.668805      -6.864500   0.125854        0.371110   \n",
       "1       MAE      35.958675      46.111726  35.111087       25.264160   \n",
       "2      RMSE      51.330398      65.298542  48.079548       40.780805   \n",
       "\n",
       "         ann  \n",
       "0  -0.968391  \n",
       "1  35.708490  \n",
       "2  48.405579  "
      ]
     },
     "execution_count": 56,
     "metadata": {},
     "output_type": "execute_result"
    }
   ],
   "source": [
    "untuned_results = pd.DataFrame(untuned_results)\n",
    "untuned_results"
   ]
  },
  {
   "cell_type": "markdown",
   "id": "675c4943-c736-4d0a-82af-350d6f763cbd",
   "metadata": {},
   "source": [
    "### Overall finetuned Results"
   ]
  },
  {
   "cell_type": "code",
   "execution_count": 57,
   "id": "e28f0b3d-2bf2-405d-aef0-fbbecae2859f",
   "metadata": {},
   "outputs": [],
   "source": [
    "results = {\"Scoring\": [],\n",
    "           \"random forest\":[],\n",
    "           \"decision tree\":[],\n",
    "           \"Xgboost\":[],\n",
    "           \"Gradient Boost\":[],\n",
    "           \"ANN\":[]\n",
    "          }\n",
    "results[\"Scoring\"].append(\"r2_score\")\n",
    "results[\"random forest\"].append(mean_rf_r2)\n",
    "results[\"decision tree\"].append(average_r2_dt)\n",
    "results[\"Xgboost\"].append(tunned_xgb_r2)\n",
    "results[\"Gradient Boost\"].append(mean_gbr_r2)\n",
    "results[\"ANN\"].append(r2_ann)"
   ]
  },
  {
   "cell_type": "code",
   "execution_count": 58,
   "id": "6f3cbf4c-fb57-4851-9a69-ecd4602cf7e6",
   "metadata": {},
   "outputs": [],
   "source": [
    "results[\"Scoring\"].append(\"MAE\")\n",
    "results[\"random forest\"].append(mean_rf_mae)\n",
    "results[\"decision tree\"].append(average_mae_dt)\n",
    "results[\"Xgboost\"].append(tunned_xgb_mae)\n",
    "results[\"Gradient Boost\"].append(mean_gbr_mae)\n",
    "results[\"ANN\"].append(mae_ann)"
   ]
  },
  {
   "cell_type": "code",
   "execution_count": 59,
   "id": "3a6d0f25-c7c7-4b5c-9f11-dd97732727d8",
   "metadata": {},
   "outputs": [],
   "source": [
    "results[\"Scoring\"].append(\"RMSE\")\n",
    "results[\"random forest\"].append(mean_rf_rmse)\n",
    "results[\"decision tree\"].append(average_rmse_dt)\n",
    "results[\"Xgboost\"].append(tunned_xgb_rmse)\n",
    "results[\"Gradient Boost\"].append(mean_gbr_rmse)\n",
    "results[\"ANN\"].append(rmse_ann)"
   ]
  },
  {
   "cell_type": "code",
   "execution_count": 60,
   "id": "cd247745-e71d-4ca5-a4f8-bb23413f7a11",
   "metadata": {},
   "outputs": [
    {
     "data": {
      "text/html": [
       "<div>\n",
       "<style scoped>\n",
       "    .dataframe tbody tr th:only-of-type {\n",
       "        vertical-align: middle;\n",
       "    }\n",
       "\n",
       "    .dataframe tbody tr th {\n",
       "        vertical-align: top;\n",
       "    }\n",
       "\n",
       "    .dataframe thead th {\n",
       "        text-align: right;\n",
       "    }\n",
       "</style>\n",
       "<table border=\"1\" class=\"dataframe\">\n",
       "  <thead>\n",
       "    <tr style=\"text-align: right;\">\n",
       "      <th></th>\n",
       "      <th>Scoring</th>\n",
       "      <th>random forest</th>\n",
       "      <th>decision tree</th>\n",
       "      <th>Xgboost</th>\n",
       "      <th>Gradient Boost</th>\n",
       "      <th>ANN</th>\n",
       "    </tr>\n",
       "  </thead>\n",
       "  <tbody>\n",
       "    <tr>\n",
       "      <th>0</th>\n",
       "      <td>r2_score</td>\n",
       "      <td>0.479291</td>\n",
       "      <td>0.241593</td>\n",
       "      <td>0.263810</td>\n",
       "      <td>0.692320</td>\n",
       "      <td>-0.089418</td>\n",
       "    </tr>\n",
       "    <tr>\n",
       "      <th>1</th>\n",
       "      <td>MAE</td>\n",
       "      <td>30.756516</td>\n",
       "      <td>31.849661</td>\n",
       "      <td>33.011986</td>\n",
       "      <td>33.683213</td>\n",
       "      <td>29.802636</td>\n",
       "    </tr>\n",
       "    <tr>\n",
       "      <th>2</th>\n",
       "      <td>RMSE</td>\n",
       "      <td>48.843391</td>\n",
       "      <td>53.453625</td>\n",
       "      <td>44.122832</td>\n",
       "      <td>50.480946</td>\n",
       "      <td>53.674222</td>\n",
       "    </tr>\n",
       "  </tbody>\n",
       "</table>\n",
       "</div>"
      ],
      "text/plain": [
       "    Scoring  random forest  decision tree    Xgboost  Gradient Boost  \\\n",
       "0  r2_score       0.479291       0.241593   0.263810        0.692320   \n",
       "1       MAE      30.756516      31.849661  33.011986       33.683213   \n",
       "2      RMSE      48.843391      53.453625  44.122832       50.480946   \n",
       "\n",
       "         ANN  \n",
       "0  -0.089418  \n",
       "1  29.802636  \n",
       "2  53.674222  "
      ]
     },
     "execution_count": 60,
     "metadata": {},
     "output_type": "execute_result"
    }
   ],
   "source": [
    "df_results = pd.DataFrame(results)\n",
    "df_results"
   ]
  },
  {
   "cell_type": "markdown",
   "id": "e4326827-f74c-464e-b372-997fa150a11c",
   "metadata": {},
   "source": [
    "## Best Parameters"
   ]
  },
  {
   "cell_type": "code",
   "execution_count": 61,
   "id": "905245a1-2710-460a-b1c0-3052fd155623",
   "metadata": {},
   "outputs": [
    {
     "data": {
      "text/plain": [
       "{'ANN': {'activation': 'logistic',\n",
       "  'hidden_layer_sizes': (10, 10),\n",
       "  'learning_rate': 'adaptive',\n",
       "  'learning_rate_init': 0.001,\n",
       "  'solver': 'adam'},\n",
       " 'Random Forest': {'max_depth': 8,\n",
       "  'min_samples_leaf': 1,\n",
       "  'min_samples_split': 2,\n",
       "  'n_estimators': 150},\n",
       " 'Decision Tree': {'splitter': 'random',\n",
       "  'min_samples_split': 7,\n",
       "  'min_samples_leaf': 7,\n",
       "  'max_features': 'log2',\n",
       "  'max_depth': 14,\n",
       "  'criterion': 'absolute_error'},\n",
       " 'XgBoost': {'subsample': 0.6,\n",
       "  'reg_lambda': 0.2,\n",
       "  'reg_alpha': 0.3,\n",
       "  'n_estimators': 100,\n",
       "  'max_depth': 4,\n",
       "  'learning_rate': 0.01,\n",
       "  'gamma': 0.2,\n",
       "  'colsample_bytree': 0.8},\n",
       " 'Gradient Boost': {'subsample': 0.9,\n",
       "  'n_estimators': 50,\n",
       "  'min_samples_split': 3,\n",
       "  'min_samples_leaf': 2,\n",
       "  'max_depth': 5,\n",
       "  'learning_rate': 0.3}}"
      ]
     },
     "execution_count": 61,
     "metadata": {},
     "output_type": "execute_result"
    }
   ],
   "source": [
    "best_params = {\n",
    "    \"ANN\":best_params_ann, \n",
    "    \"Random Forest\":best_params_rf, \n",
    "    \"Decision Tree\":best_params_dt,\n",
    "    \"XgBoost\":best_params_xgb,\n",
    "    \"Gradient Boost\": best_params_gbr,\n",
    "    \n",
    "}\n",
    "best_params"
   ]
  },
  {
   "cell_type": "code",
   "execution_count": null,
   "id": "fac47bc1-1c04-4a92-bb3b-66cec26e2303",
   "metadata": {},
   "outputs": [],
   "source": []
  }
 ],
 "metadata": {
  "kernelspec": {
   "display_name": "iguide",
   "language": "python",
   "name": "iguide"
  },
  "language_info": {
   "codemirror_mode": {
    "name": "ipython",
    "version": 3
   },
   "file_extension": ".py",
   "mimetype": "text/x-python",
   "name": "python",
   "nbconvert_exporter": "python",
   "pygments_lexer": "ipython3",
   "version": "3.8.16"
  }
 },
 "nbformat": 4,
 "nbformat_minor": 5
}
