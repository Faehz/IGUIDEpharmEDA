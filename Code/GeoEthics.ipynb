{
 "cells": [
  {
   "cell_type": "markdown",
   "id": "4c494b68-af8a-4d21-b512-13eafb748c81",
   "metadata": {},
   "source": [
    "# GeoEthics\n",
    "### Team 1 (Prediction of Pharmaceutical Removal from Wastewater with Machine Leaning)"
   ]
  },
  {
   "cell_type": "markdown",
   "id": "eabf75db-ebd4-46aa-9b38-15b415d1c93b",
   "metadata": {},
   "source": [
    "To assess the ethical components of the team 1’s project, titled as “Prediction of Pharmaceutical Removal from Wastewater with Machine Learning”, 02 tools have been used - Data Card and Data Nutrition Project (DNP). Key observations from the deployment of both tools are as followed: "
   ]
  },
  {
   "cell_type": "markdown",
   "id": "6640c8b1-531b-4552-9871-924be57fc6ce",
   "metadata": {},
   "source": [
    "### Data Card: "
   ]
  },
  {
   "cell_type": "markdown",
   "id": "90f6354b-2e30-4aad-95b4-9b3d96986bac",
   "metadata": {},
   "source": [
    "Data Cards by Google Research are structured to be a transparent dataset documentation for responsible AI containing details not usually found in technical documentation. Data cards include 15 themes, such as,  Summary, Authorship, Dataset Overview, and Example of Data Points."
   ]
  },
  {
   "cell_type": "markdown",
   "id": "9424dc6c-e696-443a-b1ba-853f54322333",
   "metadata": {},
   "source": [
    "### DNP: "
   ]
  },
  {
   "cell_type": "markdown",
   "id": "7582ed59-20e8-405b-85f8-bcf23a0055b2",
   "metadata": {},
   "source": [
    "The tool, DNP, interrogates the dataset for a variety of imbalances or problems it could have, ascertains if it is the right dataset for a model and represents key components presenting dataset quality resembling the format of FDA’s nutrition label. For this project, DNP label has been created to understand multiple insights on - data usage, data values, risk, data collection process and so on. \n",
    "\n",
    "In brief, since our project doesn’t deal with data collection on human, many of the questions present in the tool don't align with our dataset. The inference risks’ summary shows positive result regarding - human engagement, technical review and data update frequency while neutral observations are noted for parameters such as upstream sources and ethical review. However, no ethical review was needed, since the project doesn’t concern data collection from human. The tool also identified few risks on data collection protocol and data representation. For many of the parameters, the tool was unable to identify any risk, since the associated questions were not relevant with the project. \n",
    "\n",
    "Overall, the tool provided quite positive feedback on the dataset’s GeoEthics component. \n"
   ]
  },
  {
   "cell_type": "markdown",
   "id": "8646b684-d1bd-44e7-b834-eddae7649a71",
   "metadata": {},
   "source": [
    "\n",
    "\n",
    "The other tool on GeoEthics might be explored for this project in future."
   ]
  }
 ],
 "metadata": {
  "kernelspec": {
   "display_name": "iguide",
   "language": "python",
   "name": "iguide"
  },
  "language_info": {
   "codemirror_mode": {
    "name": "ipython",
    "version": 3
   },
   "file_extension": ".py",
   "mimetype": "text/x-python",
   "name": "python",
   "nbconvert_exporter": "python",
   "pygments_lexer": "ipython3",
   "version": "3.8.16"
  }
 },
 "nbformat": 4,
 "nbformat_minor": 5
}
